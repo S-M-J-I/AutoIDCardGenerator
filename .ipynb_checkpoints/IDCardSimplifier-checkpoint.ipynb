{
 "cells": [
  {
   "cell_type": "code",
   "execution_count": 1,
   "metadata": {},
   "outputs": [],
   "source": [
    "from PIL import Image, ImageFont, ImageDraw, ImageOps\n",
    "import os\n",
    "IS_GDRIVE = False"
   ]
  },
  {
   "cell_type": "code",
   "execution_count": 2,
   "metadata": {},
   "outputs": [],
   "source": [
    "def get_text_dimensions(text_string, font):\n",
    "    # https://stackoverflow.com/a/46220683/9263761\n",
    "    ascent, descent = font.getmetrics()\n",
    "\n",
    "    text_width = font.getmask(text_string).getbbox()[2]\n",
    "    text_height = font.getmask(text_string).getbbox()[3] + descent\n",
    "\n",
    "    return (text_width, text_height)"
   ]
  },
  {
   "cell_type": "markdown",
   "metadata": {},
   "source": [
    "# You can change the join date by simply setting the parameter for it"
   ]
  },
  {
   "cell_type": "code",
   "execution_count": 3,
   "metadata": {},
   "outputs": [],
   "source": [
    "if IS_GDRIVE:\n",
    "    from google.colab import drive\n",
    "    drive.mount('/content/drive')"
   ]
  },
  {
   "cell_type": "code",
   "execution_count": 14,
   "metadata": {},
   "outputs": [],
   "source": [
    "def decide_input_path(filename):\n",
    "    return f\"/content/drive/MyDrive/AutoIDCardGenerator/{filename}\" if IS_GDRIVE else f\"{os.getcwd()}/{filename}\"\n",
    "\n",
    "def decide_output_path(filename):\n",
    "    return f\"/content/{filename}\" if IS_GDRIVE else f\"{os.getcwd()}/{filename}\""
   ]
  },
  {
   "cell_type": "code",
   "execution_count": 5,
   "metadata": {},
   "outputs": [],
   "source": [
    "\"\"\"\n",
    "Most files are jpeg, png but the sheet has jpg extension. This gives an error.\n",
    "\"\"\"\n",
    "def search_right_img_file(filename):\n",
    "    \"\"\"\n",
    "    params:\n",
    "        filname (string): the name of the file to correct its extension\n",
    "    \"\"\"\n",
    "    ext = \"\"\n",
    "    exts = [\"jpg\", \"png\", \"jpeg\"]\n",
    "    for e in exts:\n",
    "        path = f\"{os.getcwd()}/imgs/{filename}.{e}\" if not IS_GDRIVE else f\"/content/drive/MyDrive/AutoIDCardGenerator/imgs/{filename}.{e}\"\n",
    "        if os.path.exists(path):\n",
    "            ext = f\"imgs/{filename}.{e}\" if not IS_GDRIVE else f\"/content/drive/MyDrive/AutoIDCardGenerator/imgs/{filename}.{e}\"\n",
    "            break\n",
    "    \n",
    "    return ext"
   ]
  },
  {
   "cell_type": "code",
   "execution_count": 20,
   "metadata": {},
   "outputs": [],
   "source": [
    "def setData(name,designation,id,bg,email,image_url,join_date=\"09/11/2022\"):\n",
    "    mid=350\n",
    "    id_card_filepath = decide_input_path(\"idCard.png\")\n",
    "    idCard=Image.open(id_card_filepath)\n",
    "    \n",
    "    try:\n",
    "        img=Image.open(image_url).convert(\"RGBA\")\n",
    "    except:\n",
    "        print(f\"\\033[91m Image for ID: {id} not found. Problem with image_url: {image_url}\")\n",
    "        return\n",
    "    \n",
    "    font_bold = decide_input_path(\"lato/Lato-Bold.ttf\")\n",
    "    font_regular = decide_input_path(\"lato/Lato-Regular.ttf\")\n",
    "    titleFont=ImageFont.truetype(font_bold,37)\n",
    "    nameFont=ImageFont.truetype(font_regular,30)\n",
    "    idFont=ImageFont.truetype(font_regular,25)\n",
    "    smallFont=ImageFont.truetype(font_regular,25)\n",
    "    image_editable = ImageDraw.Draw(idCard)\n",
    "\n",
    "    img = ImageOps.fit(img, (340, 340))\n",
    "    img = ImageOps.exif_transpose(img)\n",
    "\n",
    "    bigsize = (img.size[0] * 3, img.size[1] * 3)\n",
    "    mask = Image.new('L', bigsize, 0)\n",
    "    draw = ImageDraw.Draw(mask) \n",
    "    draw.ellipse((0, 0) + bigsize, fill=255)\n",
    "    mask = mask.resize(img.size, Image.ANTIALIAS)\n",
    "    img.putalpha(mask)\n",
    "\n",
    "    output = ImageOps.fit(img, mask.size, centering=(0.5, 0.5))\n",
    "    output.putalpha(mask)\n",
    "    idCard.paste(img, (190,180), img)\n",
    "    \n",
    "    image_editable.text(((750-get_text_dimensions(name,titleFont)[0])/2,550), name, (0, 0, 0), font=titleFont)\n",
    "    image_editable.text(((750-get_text_dimensions(designation,titleFont)[0])/2,550+50),designation,(0,0,0),font=titleFont)\n",
    "    image_editable.text((260,717),id,(0,0,0),font=idFont)\n",
    "    image_editable.text((259,767),email,(0,0,0),font=idFont)\n",
    "    image_editable.text((550,710),bg,(0,0,0),font=nameFont)\n",
    "    image_editable.text((335,838),join_date,(0,0,0),font=smallFont)\n",
    "    saved_file_path = decide_output_path(\"ids/\"+id+\".png\")\n",
    "    idCard.save(saved_file_path) \n",
    "    print(f\"\\033[92m Successfully printed image of ID: {id}\")"
   ]
  },
  {
   "cell_type": "code",
   "execution_count": 7,
   "metadata": {},
   "outputs": [
    {
     "name": "stdout",
     "output_type": "stream",
     "text": [
      "Requirement already satisfied: openpyxl in d:\\ml_projects\\data_pre\\env\\lib\\site-packages (3.0.10)\n",
      "Requirement already satisfied: et-xmlfile in d:\\ml_projects\\data_pre\\env\\lib\\site-packages (from openpyxl) (1.1.0)\n",
      "Note: you may need to restart the kernel to use updated packages.\n"
     ]
    },
    {
     "name": "stderr",
     "output_type": "stream",
     "text": [
      "WARNING: You are using pip version 22.0.3; however, version 22.3 is available.\n",
      "You should consider upgrading via the 'D:\\ml_projects\\data_pre\\env\\python.exe -m pip install --upgrade pip' command.\n"
     ]
    }
   ],
   "source": [
    "import pandas as pd\n",
    "%pip install openpyxl"
   ]
  },
  {
   "cell_type": "markdown",
   "metadata": {},
   "source": [
    "#Run the file using generate"
   ]
  },
  {
   "cell_type": "code",
   "execution_count": 8,
   "metadata": {},
   "outputs": [],
   "source": [
    "def generate(filepath, test=False, test_range=10):\n",
    "    filepath = filepath if not IS_GDRIVE else f\"/content/drive/MyDrive/AutoIDCardGenerator/{filepath}\"\n",
    "    data=pd.read_excel(filepath)\n",
    "    try:\n",
    "        os.mkdir(\"ids\")\n",
    "    except:\n",
    "        print(\"Folder Already Exists\")\n",
    "        \n",
    "    length = test_range if test else len(data)\n",
    "    for i in range(length):\n",
    "        name=str(data.loc[i,\"Name\"]).upper()\n",
    "        designation=str(data.loc[i,\"Member Type\"])\n",
    "        id=str(data.loc[i,\"ID\"])\n",
    "        id=\"0\"+id if len(id)<9 else id\n",
    "        bg=str(data.loc[i,\"Blood Group\"])\n",
    "        bg=\" \" if bg==\"nan\" else str(bg).upper()\n",
    "        email=str(data.loc[i,\"Email Address\"])\n",
    "        ext = str(data.loc[i, \"Extension\"])\n",
    "        image_url = search_right_img_file(id)\n",
    "        setData(name,designation,id,bg,email,image_url)\n",
    "    print(\"\\033[94m All Done!\")"
   ]
  },
  {
   "cell_type": "code",
   "execution_count": 21,
   "metadata": {},
   "outputs": [
    {
     "name": "stdout",
     "output_type": "stream",
     "text": [
      "Folder Already Exists\n",
      "\u001b[92m Successfully printed image of ID: 0112230867\n",
      "\u001b[92m Successfully printed image of ID: 0112230918\n",
      "\u001b[92m Successfully printed image of ID: 0112230122\n",
      "\u001b[92m Successfully printed image of ID: 0112230310\n",
      "\u001b[92m Successfully printed image of ID: 0112230150\n",
      "\u001b[92m Successfully printed image of ID: 0112230233\n",
      "\u001b[92m Successfully printed image of ID: 011222112\n",
      "\u001b[92m Successfully printed image of ID: 0112230132\n",
      "\u001b[92m Successfully printed image of ID: 0112230358\n",
      "\u001b[92m Successfully printed image of ID: 0112230899\n",
      "\u001b[94m All Done!\n"
     ]
    }
   ],
   "source": [
    "# Test on a sample of 10 data\n",
    "generate(\"reg.xlsx\", True, 10)"
   ]
  },
  {
   "cell_type": "code",
   "execution_count": 10,
   "metadata": {},
   "outputs": [],
   "source": [
    "# Full generate\n",
    "generate(\"reg.xlsx\")"
   ]
  },
  {
   "cell_type": "code",
   "execution_count": null,
   "metadata": {},
   "outputs": [],
   "source": []
  }
 ],
 "metadata": {
  "kernelspec": {
   "display_name": "Python 3 (ipykernel)",
   "language": "python",
   "name": "python3"
  },
  "language_info": {
   "codemirror_mode": {
    "name": "ipython",
    "version": 3
   },
   "file_extension": ".py",
   "mimetype": "text/x-python",
   "name": "python",
   "nbconvert_exporter": "python",
   "pygments_lexer": "ipython3",
   "version": "3.9.12"
  },
  "vscode": {
   "interpreter": {
    "hash": "df95319d8ce4e1d89f5365ae10992bc1f65da593082b1d264e8f529830ec2f02"
   }
  }
 },
 "nbformat": 4,
 "nbformat_minor": 2
}

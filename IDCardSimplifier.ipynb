{
 "cells": [
  {
   "cell_type": "code",
   "execution_count": 1,
   "metadata": {},
   "outputs": [
    {
     "name": "stdout",
     "output_type": "stream",
     "text": [
      "Requirement already satisfied: requests in d:\\ml_projects\\first_project\\env\\lib\\site-packages (2.28.1)\n",
      "Requirement already satisfied: certifi>=2017.4.17 in d:\\ml_projects\\first_project\\env\\lib\\site-packages (from requests) (2021.10.8)\n",
      "Requirement already satisfied: urllib3<1.27,>=1.21.1 in d:\\ml_projects\\first_project\\env\\lib\\site-packages (from requests) (1.26.10)\n",
      "Requirement already satisfied: charset-normalizer<3,>=2 in d:\\ml_projects\\first_project\\env\\lib\\site-packages (from requests) (2.1.0)\n",
      "Requirement already satisfied: idna<4,>=2.5 in d:\\ml_projects\\first_project\\env\\lib\\site-packages (from requests) (3.3)\n",
      "Note: you may need to restart the kernel to use updated packages.\n"
     ]
    },
    {
     "name": "stderr",
     "output_type": "stream",
     "text": [
      "WARNING: You are using pip version 22.0.3; however, version 22.2 is available.\n",
      "You should consider upgrading via the 'D:\\ml_projects\\first_project\\env\\python.exe -m pip install --upgrade pip' command.\n"
     ]
    }
   ],
   "source": [
    "from PIL import Image, ImageFont, ImageDraw, ImageOps\n",
    "import os\n",
    "import numpy as np\n",
    "%pip install requests"
   ]
  },
  {
   "cell_type": "code",
   "execution_count": 2,
   "metadata": {},
   "outputs": [],
   "source": [
    "def get_text_dimensions(text_string, font):\n",
    "    # https://stackoverflow.com/a/46220683/9263761\n",
    "    ascent, descent = font.getmetrics()\n",
    "\n",
    "    text_width = font.getmask(text_string).getbbox()[2]\n",
    "    text_height = font.getmask(text_string).getbbox()[3] + descent\n",
    "\n",
    "    return (text_width, text_height)"
   ]
  },
  {
   "cell_type": "code",
   "execution_count": 3,
   "metadata": {},
   "outputs": [
    {
     "name": "stdout",
     "output_type": "stream",
     "text": [
      "Requirement already satisfied: gdown in d:\\ml_projects\\first_project\\env\\lib\\site-packages (4.5.1)\n",
      "Requirement already satisfied: filelock in c:\\users\\user\\appdata\\roaming\\python\\python39\\site-packages (from gdown) (3.6.0)\n",
      "Requirement already satisfied: six in c:\\users\\user\\appdata\\roaming\\python\\python39\\site-packages (from gdown) (1.16.0)\n",
      "Requirement already satisfied: beautifulsoup4 in d:\\ml_projects\\first_project\\env\\lib\\site-packages (from gdown) (4.11.1)\n",
      "Requirement already satisfied: requests[socks] in d:\\ml_projects\\first_project\\env\\lib\\site-packages (from gdown) (2.28.1)\n",
      "Requirement already satisfied: tqdm in c:\\users\\user\\appdata\\roaming\\python\\python39\\site-packages (from gdown) (4.63.0)\n",
      "Requirement already satisfied: soupsieve>1.2 in d:\\ml_projects\\first_project\\env\\lib\\site-packages (from beautifulsoup4->gdown) (2.3.2.post1)\n",
      "Requirement already satisfied: charset-normalizer<3,>=2 in d:\\ml_projects\\first_project\\env\\lib\\site-packages (from requests[socks]->gdown) (2.1.0)\n",
      "Requirement already satisfied: idna<4,>=2.5 in d:\\ml_projects\\first_project\\env\\lib\\site-packages (from requests[socks]->gdown) (3.3)\n",
      "Requirement already satisfied: urllib3<1.27,>=1.21.1 in d:\\ml_projects\\first_project\\env\\lib\\site-packages (from requests[socks]->gdown) (1.26.10)\n",
      "Requirement already satisfied: certifi>=2017.4.17 in d:\\ml_projects\\first_project\\env\\lib\\site-packages (from requests[socks]->gdown) (2021.10.8)\n",
      "Requirement already satisfied: PySocks!=1.5.7,>=1.5.6 in d:\\ml_projects\\first_project\\env\\lib\\site-packages (from requests[socks]->gdown) (1.7.1)\n",
      "Requirement already satisfied: colorama in c:\\users\\user\\appdata\\roaming\\python\\python39\\site-packages (from tqdm->gdown) (0.4.4)\n",
      "Note: you may need to restart the kernel to use updated packages.\n"
     ]
    },
    {
     "name": "stderr",
     "output_type": "stream",
     "text": [
      "WARNING: You are using pip version 22.0.3; however, version 22.2 is available.\n",
      "You should consider upgrading via the 'D:\\ml_projects\\first_project\\env\\python.exe -m pip install --upgrade pip' command.\n"
     ]
    }
   ],
   "source": [
    "%pip install gdown\n",
    "import gdown"
   ]
  },
  {
   "cell_type": "markdown",
   "metadata": {},
   "source": [
    "### You can change the join date by simply setting the parameter for it"
   ]
  },
  {
   "cell_type": "code",
   "execution_count": 4,
   "metadata": {},
   "outputs": [
    {
     "name": "stderr",
     "output_type": "stream",
     "text": [
      "WARNING: You are using pip version 22.0.3; however, version 22.2 is available.\n",
      "You should consider upgrading via the 'D:\\ml_projects\\first_project\\env\\python.exe -m pip install --upgrade pip' command.\n"
     ]
    },
    {
     "name": "stdout",
     "output_type": "stream",
     "text": [
      "Requirement already satisfied: opencv-python in d:\\ml_projects\\first_project\\env\\lib\\site-packages (4.6.0.66)Note: you may need to restart the kernel to use updated packages.\n",
      "Requirement already satisfied: numpy>=1.19.3 in d:\\ml_projects\\first_project\\env\\lib\\site-packages (from opencv-python) (1.21.5)\n",
      "\n"
     ]
    }
   ],
   "source": [
    "%pip install opencv-python\n",
    "import cv2"
   ]
  },
  {
   "cell_type": "code",
   "execution_count": 12,
   "metadata": {},
   "outputs": [],
   "source": [
    "def setData(name,designation,id,bg,email,image_url,join_date=\"24/07/2022\"):\n",
    "    mid=350\n",
    "#     print(image_url)\n",
    "# 011213109 - problem\n",
    "    gdown.download(image_url, \"./imgs/\"+id+\".png\", quiet=False)\n",
    "    idCard=Image.open(\"idCard.png\")\n",
    "    titleFont=ImageFont.truetype(\"lato\\Lato-Bold.ttf\",37)\n",
    "    nameFont=ImageFont.truetype(\"lato\\Lato-Regular.ttf\",30)\n",
    "    idFont=ImageFont.truetype(\"lato\\Lato-Regular.ttf\",25)\n",
    "    smallFont=ImageFont.truetype(\"lato\\Lato-Regular.ttf\",25)\n",
    "    image_editable = ImageDraw.Draw(idCard)\n",
    "    \n",
    "#     detect face\n",
    "    # Load the cascade\n",
    "    face_cascade = cv2.CascadeClassifier('haarcascade_frontalface_default.xml')\n",
    "    \n",
    "    # Read the input image\n",
    "    try:\n",
    "        img = cv2.imread('./imgs/'+id+\".png\")\n",
    "        gray = cv2.cvtColor(img, cv2.COLOR_BGR2GRAY)\n",
    "    except:\n",
    "        print(\"Invalid File Format\")\n",
    "        return\n",
    "        \n",
    "    # Convert into grayscale\n",
    "    \n",
    "    # Detect faces\n",
    "    faces = face_cascade.detectMultiScale(gray, 1.1, 4)                                          \n",
    "    \n",
    "    cv2.imwrite('./imgs/'+id+'-detected.jpg', img)\n",
    "    img = Image.open('./imgs/'+id+'-detected.jpg')\n",
    "    \n",
    "#     image resize\n",
    "    img = img.resize((335, 335));\n",
    "    bigsize = (img.size[0] * 3, img.size[1] * 3)\n",
    "    mask = Image.new('L', bigsize, 0)\n",
    "    draw = ImageDraw.Draw(mask) \n",
    "    draw.ellipse((0, 0) + bigsize, fill=255)\n",
    "    mask = mask.resize(img.size, Image.ANTIALIAS)\n",
    "    img.putalpha(mask)\n",
    "\n",
    "    output = ImageOps.fit(img, mask.size, centering=(0.5, 0.5))\n",
    "    output.putalpha(mask)\n",
    "    idCard.paste(img, (190,180), img)\n",
    "    \n",
    "    image_editable.text(((750-get_text_dimensions(name,titleFont)[0])/2,550), name, (0, 0, 0), font=titleFont)\n",
    "    image_editable.text(((750-get_text_dimensions(designation,titleFont)[0])/2,550+50),designation,(0,0,0),font=titleFont)\n",
    "    image_editable.text((260,717),id,(0,0,0),font=idFont)\n",
    "    image_editable.text((259,767),email,(0,0,0),font=idFont)\n",
    "    image_editable.text((550,710),bg,(0,0,0),font=nameFont)\n",
    "    image_editable.text((335,838),join_date,(0,0,0),font=smallFont)\n",
    "    idCard.save(\"ids_ai/\"+id+\".AI\")"
   ]
  },
  {
   "cell_type": "code",
   "execution_count": 6,
   "metadata": {},
   "outputs": [
    {
     "name": "stdout",
     "output_type": "stream",
     "text": [
      "Requirement already satisfied: openpyxl in d:\\ml_projects\\first_project\\env\\lib\\site-packages (3.0.10)\n",
      "Requirement already satisfied: et-xmlfile in d:\\ml_projects\\first_project\\env\\lib\\site-packages (from openpyxl) (1.1.0)\n",
      "Note: you may need to restart the kernel to use updated packages.\n"
     ]
    },
    {
     "name": "stderr",
     "output_type": "stream",
     "text": [
      "WARNING: You are using pip version 22.0.3; however, version 22.2 is available.\n",
      "You should consider upgrading via the 'D:\\ml_projects\\first_project\\env\\python.exe -m pip install --upgrade pip' command.\n"
     ]
    }
   ],
   "source": [
    "import pandas as pd\n",
    "%pip install openpyxl"
   ]
  },
  {
   "cell_type": "markdown",
   "metadata": {},
   "source": [
    "#Run the file using generate"
   ]
  },
  {
   "cell_type": "code",
   "execution_count": 13,
   "metadata": {},
   "outputs": [],
   "source": [
    "def generate(filepath):\n",
    "    data=pd.read_excel(filepath)\n",
    "#     data[\"Picture\"]\n",
    "    try:\n",
    "        os.mkdir(\"ids_ai\")\n",
    "    except:\n",
    "        print(\"Folder Already Exists\")\n",
    "    for i in range(len(data)):\n",
    "#     for i in range(10):\n",
    "        if str(data.loc[i,\"Member Type\"]) == \"General Member\":\n",
    "            print(i)\n",
    "            name=str(data.loc[i,\"Name\"]).upper()\n",
    "            designation=str(data.loc[i,\"Member Type\"])\n",
    "            id=str(int(data.loc[i,\"ID\"]))\n",
    "            id=\"0\"+id if len(id)<9 else id\n",
    "            bg=str(data.loc[i,\"Blood Group\"])\n",
    "            bg=\" \" if bg==\"nan\" else str(bg).upper()\n",
    "            email=str(data.loc[i,\"Email Address\"])\n",
    "            link = data.loc[i, \"Picture\"]\n",
    "            link = link.replace(\"open\", \"uc\")\n",
    "    #         print(link)\n",
    "            setData(name,designation,id,bg,email,link)\n",
    "            \n"
   ]
  },
  {
   "cell_type": "code",
   "execution_count": 14,
   "metadata": {
    "scrolled": true
   },
   "outputs": [
    {
     "name": "stdout",
     "output_type": "stream",
     "text": [
      "Folder Already Exists\n",
      "0\n"
     ]
    },
    {
     "name": "stderr",
     "output_type": "stream",
     "text": [
      "Downloading...\n",
      "From: https://drive.google.com/uc?id=1Z_sF95QPucsLdxiizBHsIDiGWkUJ71Rj\n",
      "To: D:\\ml_projects\\first_project\\AutoIDCardGenerator-master\\AutoIDCardGenerator-master\\imgs\\111211097.png\n",
      "100%|█████████████████████████████████████████████████████████████████████████████| 42.5k/42.5k [00:00<00:00, 13.3MB/s]\n"
     ]
    },
    {
     "ename": "ValueError",
     "evalue": "unknown file extension: .ai",
     "output_type": "error",
     "traceback": [
      "\u001b[1;31m---------------------------------------------------------------------------\u001b[0m",
      "\u001b[1;31mKeyError\u001b[0m                                  Traceback (most recent call last)",
      "\u001b[1;32mD:\\ml_projects\\first_project\\env\\lib\\site-packages\\PIL\\Image.py\u001b[0m in \u001b[0;36msave\u001b[1;34m(self, fp, format, **params)\u001b[0m\n\u001b[0;32m   2219\u001b[0m             \u001b[1;32mtry\u001b[0m\u001b[1;33m:\u001b[0m\u001b[1;33m\u001b[0m\u001b[1;33m\u001b[0m\u001b[0m\n\u001b[1;32m-> 2220\u001b[1;33m                 \u001b[0mformat\u001b[0m \u001b[1;33m=\u001b[0m \u001b[0mEXTENSION\u001b[0m\u001b[1;33m[\u001b[0m\u001b[0mext\u001b[0m\u001b[1;33m]\u001b[0m\u001b[1;33m\u001b[0m\u001b[1;33m\u001b[0m\u001b[0m\n\u001b[0m\u001b[0;32m   2221\u001b[0m             \u001b[1;32mexcept\u001b[0m \u001b[0mKeyError\u001b[0m \u001b[1;32mas\u001b[0m \u001b[0me\u001b[0m\u001b[1;33m:\u001b[0m\u001b[1;33m\u001b[0m\u001b[1;33m\u001b[0m\u001b[0m\n",
      "\u001b[1;31mKeyError\u001b[0m: '.ai'",
      "\nThe above exception was the direct cause of the following exception:\n",
      "\u001b[1;31mValueError\u001b[0m                                Traceback (most recent call last)",
      "\u001b[1;32m~\\AppData\\Local\\Temp/ipykernel_1560/3023401116.py\u001b[0m in \u001b[0;36m<module>\u001b[1;34m\u001b[0m\n\u001b[1;32m----> 1\u001b[1;33m \u001b[0mgenerate\u001b[0m\u001b[1;33m(\u001b[0m\u001b[1;34m\"info.xlsx\"\u001b[0m\u001b[1;33m)\u001b[0m\u001b[1;33m\u001b[0m\u001b[1;33m\u001b[0m\u001b[0m\n\u001b[0m\u001b[0;32m      2\u001b[0m \u001b[0mprint\u001b[0m\u001b[1;33m(\u001b[0m\u001b[1;34m\"Done!\"\u001b[0m\u001b[1;33m)\u001b[0m\u001b[1;33m\u001b[0m\u001b[1;33m\u001b[0m\u001b[0m\n",
      "\u001b[1;32m~\\AppData\\Local\\Temp/ipykernel_1560/1839374538.py\u001b[0m in \u001b[0;36mgenerate\u001b[1;34m(filepath)\u001b[0m\n\u001b[0;32m     20\u001b[0m             \u001b[0mlink\u001b[0m \u001b[1;33m=\u001b[0m \u001b[0mlink\u001b[0m\u001b[1;33m.\u001b[0m\u001b[0mreplace\u001b[0m\u001b[1;33m(\u001b[0m\u001b[1;34m\"open\"\u001b[0m\u001b[1;33m,\u001b[0m \u001b[1;34m\"uc\"\u001b[0m\u001b[1;33m)\u001b[0m\u001b[1;33m\u001b[0m\u001b[1;33m\u001b[0m\u001b[0m\n\u001b[0;32m     21\u001b[0m     \u001b[1;31m#         print(link)\u001b[0m\u001b[1;33m\u001b[0m\u001b[1;33m\u001b[0m\u001b[0m\n\u001b[1;32m---> 22\u001b[1;33m             \u001b[0msetData\u001b[0m\u001b[1;33m(\u001b[0m\u001b[0mname\u001b[0m\u001b[1;33m,\u001b[0m\u001b[0mdesignation\u001b[0m\u001b[1;33m,\u001b[0m\u001b[0mid\u001b[0m\u001b[1;33m,\u001b[0m\u001b[0mbg\u001b[0m\u001b[1;33m,\u001b[0m\u001b[0memail\u001b[0m\u001b[1;33m,\u001b[0m\u001b[0mlink\u001b[0m\u001b[1;33m)\u001b[0m\u001b[1;33m\u001b[0m\u001b[1;33m\u001b[0m\u001b[0m\n\u001b[0m\u001b[0;32m     23\u001b[0m \u001b[1;33m\u001b[0m\u001b[0m\n",
      "\u001b[1;32m~\\AppData\\Local\\Temp/ipykernel_1560/4019735991.py\u001b[0m in \u001b[0;36msetData\u001b[1;34m(name, designation, id, bg, email, image_url, join_date)\u001b[0m\n\u001b[0;32m     50\u001b[0m     \u001b[0mimage_editable\u001b[0m\u001b[1;33m.\u001b[0m\u001b[0mtext\u001b[0m\u001b[1;33m(\u001b[0m\u001b[1;33m(\u001b[0m\u001b[1;36m550\u001b[0m\u001b[1;33m,\u001b[0m\u001b[1;36m710\u001b[0m\u001b[1;33m)\u001b[0m\u001b[1;33m,\u001b[0m\u001b[0mbg\u001b[0m\u001b[1;33m,\u001b[0m\u001b[1;33m(\u001b[0m\u001b[1;36m0\u001b[0m\u001b[1;33m,\u001b[0m\u001b[1;36m0\u001b[0m\u001b[1;33m,\u001b[0m\u001b[1;36m0\u001b[0m\u001b[1;33m)\u001b[0m\u001b[1;33m,\u001b[0m\u001b[0mfont\u001b[0m\u001b[1;33m=\u001b[0m\u001b[0mnameFont\u001b[0m\u001b[1;33m)\u001b[0m\u001b[1;33m\u001b[0m\u001b[1;33m\u001b[0m\u001b[0m\n\u001b[0;32m     51\u001b[0m     \u001b[0mimage_editable\u001b[0m\u001b[1;33m.\u001b[0m\u001b[0mtext\u001b[0m\u001b[1;33m(\u001b[0m\u001b[1;33m(\u001b[0m\u001b[1;36m335\u001b[0m\u001b[1;33m,\u001b[0m\u001b[1;36m838\u001b[0m\u001b[1;33m)\u001b[0m\u001b[1;33m,\u001b[0m\u001b[0mjoin_date\u001b[0m\u001b[1;33m,\u001b[0m\u001b[1;33m(\u001b[0m\u001b[1;36m0\u001b[0m\u001b[1;33m,\u001b[0m\u001b[1;36m0\u001b[0m\u001b[1;33m,\u001b[0m\u001b[1;36m0\u001b[0m\u001b[1;33m)\u001b[0m\u001b[1;33m,\u001b[0m\u001b[0mfont\u001b[0m\u001b[1;33m=\u001b[0m\u001b[0msmallFont\u001b[0m\u001b[1;33m)\u001b[0m\u001b[1;33m\u001b[0m\u001b[1;33m\u001b[0m\u001b[0m\n\u001b[1;32m---> 52\u001b[1;33m     \u001b[0midCard\u001b[0m\u001b[1;33m.\u001b[0m\u001b[0msave\u001b[0m\u001b[1;33m(\u001b[0m\u001b[1;34m\"ids_ai/\"\u001b[0m\u001b[1;33m+\u001b[0m\u001b[0mid\u001b[0m\u001b[1;33m+\u001b[0m\u001b[1;34m\".AI\"\u001b[0m\u001b[1;33m)\u001b[0m\u001b[1;33m\u001b[0m\u001b[1;33m\u001b[0m\u001b[0m\n\u001b[0m",
      "\u001b[1;32mD:\\ml_projects\\first_project\\env\\lib\\site-packages\\PIL\\Image.py\u001b[0m in \u001b[0;36msave\u001b[1;34m(self, fp, format, **params)\u001b[0m\n\u001b[0;32m   2220\u001b[0m                 \u001b[0mformat\u001b[0m \u001b[1;33m=\u001b[0m \u001b[0mEXTENSION\u001b[0m\u001b[1;33m[\u001b[0m\u001b[0mext\u001b[0m\u001b[1;33m]\u001b[0m\u001b[1;33m\u001b[0m\u001b[1;33m\u001b[0m\u001b[0m\n\u001b[0;32m   2221\u001b[0m             \u001b[1;32mexcept\u001b[0m \u001b[0mKeyError\u001b[0m \u001b[1;32mas\u001b[0m \u001b[0me\u001b[0m\u001b[1;33m:\u001b[0m\u001b[1;33m\u001b[0m\u001b[1;33m\u001b[0m\u001b[0m\n\u001b[1;32m-> 2222\u001b[1;33m                 \u001b[1;32mraise\u001b[0m \u001b[0mValueError\u001b[0m\u001b[1;33m(\u001b[0m\u001b[1;34mf\"unknown file extension: {ext}\"\u001b[0m\u001b[1;33m)\u001b[0m \u001b[1;32mfrom\u001b[0m \u001b[0me\u001b[0m\u001b[1;33m\u001b[0m\u001b[1;33m\u001b[0m\u001b[0m\n\u001b[0m\u001b[0;32m   2223\u001b[0m \u001b[1;33m\u001b[0m\u001b[0m\n\u001b[0;32m   2224\u001b[0m         \u001b[1;32mif\u001b[0m \u001b[0mformat\u001b[0m\u001b[1;33m.\u001b[0m\u001b[0mupper\u001b[0m\u001b[1;33m(\u001b[0m\u001b[1;33m)\u001b[0m \u001b[1;32mnot\u001b[0m \u001b[1;32min\u001b[0m \u001b[0mSAVE\u001b[0m\u001b[1;33m:\u001b[0m\u001b[1;33m\u001b[0m\u001b[1;33m\u001b[0m\u001b[0m\n",
      "\u001b[1;31mValueError\u001b[0m: unknown file extension: .ai"
     ]
    }
   ],
   "source": [
    "generate(\"info.xlsx\")\n",
    "print(\"Done!\")"
   ]
  },
  {
   "cell_type": "code",
   "execution_count": null,
   "metadata": {},
   "outputs": [],
   "source": [
    "# def setBlankData(name,designation,id,join_date=\"24/07/2022\"):\n",
    "#     id=str(id)\n",
    "#     id=\"0\"+id if len(id)<9 else id\n",
    "#     mid=350\n",
    "#     idCard=Image.open(\"idCard.png\")\n",
    "#     titleFont=ImageFont.truetype(\"lato\\Lato-Bold.ttf\",37)\n",
    "#     nameFont=ImageFont.truetype(\"lato\\Lato-Regular.ttf\",30)\n",
    "#     idFont=ImageFont.truetype(\"lato\\Lato-Regular.ttf\",25)\n",
    "#     smallFont=ImageFont.truetype(\"lato\\Lato-Regular.ttf\",25)\n",
    "#     image_editable = ImageDraw.Draw(idCard)\n",
    "#     image_editable.text(((750-get_text_dimensions(name,titleFont)[0])/2,550), name, (0, 0, 0), font=titleFont)\n",
    "#     image_editable.text(((750-get_text_dimensions(designation,titleFont)[0])/2,550+50),designation,(0,0,0),font=titleFont)\n",
    "#     image_editable.text((260,717),id,(0,0,0),font=idFont)\n",
    "#     image_editable.text((335,838),join_date,(0,0,0),font=smallFont)\n",
    "#     idCard.save(\"ids_missing/\"+id+\".png\")"
   ]
  },
  {
   "cell_type": "code",
   "execution_count": null,
   "metadata": {},
   "outputs": [],
   "source": [
    "# def find_and_print_outlier(ori_filepath, missing_filepath):\n",
    "#     data1 = pd.read_excel(ori_filepath)\n",
    "#     data2 = pd.read_excel(missing_filepath)\n",
    "# #     print(data2[\"ID\"].tolist())\n",
    "#     ids = data1[\"ID\"].tolist()\n",
    "#     try:\n",
    "#         os.mkdir(\"ids_missing\")\n",
    "#     except:\n",
    "#         print(\"Folder Already Exists\")\n",
    "    \n",
    "\n",
    "#     count = 1\n",
    "#     for i in range(len(data2)):\n",
    "#         name=str(data2.loc[i,\"Name\"]).upper()\n",
    "#         id = \"\"\n",
    "#         if np.isnan(data2.loc[i,\"ID\"]):\n",
    "#             id = count\n",
    "#             count += 1\n",
    "#         else:\n",
    "#             id = int(data2.loc[i,\"ID\"])\n",
    "        \n",
    "#         if id not in ids:\n",
    "#             setBlankData(name, \"General Member\", str(id))\n",
    "        "
   ]
  },
  {
   "cell_type": "code",
   "execution_count": null,
   "metadata": {},
   "outputs": [],
   "source": [
    "# find_and_print_outlier(\"info.xlsx\", \"cclsummer22.xlsx\")\n",
    "# print(\"Done!\")"
   ]
  },
  {
   "cell_type": "code",
   "execution_count": null,
   "metadata": {},
   "outputs": [],
   "source": []
  },
  {
   "cell_type": "code",
   "execution_count": null,
   "metadata": {},
   "outputs": [],
   "source": []
  }
 ],
 "metadata": {
  "kernelspec": {
   "display_name": "Python 3 (ipykernel)",
   "language": "python",
   "name": "python3"
  },
  "language_info": {
   "codemirror_mode": {
    "name": "ipython",
    "version": 3
   },
   "file_extension": ".py",
   "mimetype": "text/x-python",
   "name": "python",
   "nbconvert_exporter": "python",
   "pygments_lexer": "ipython3",
   "version": "3.9.7"
  },
  "vscode": {
   "interpreter": {
    "hash": "cece38bb09944de440b812dd50e53c213533c13f395f4a97acbccfd76a9a11c7"
   }
  }
 },
 "nbformat": 4,
 "nbformat_minor": 2
}

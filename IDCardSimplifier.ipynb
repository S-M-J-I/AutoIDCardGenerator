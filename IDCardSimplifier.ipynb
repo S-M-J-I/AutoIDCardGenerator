{
 "cells": [
  {
   "cell_type": "code",
   "execution_count": 53,
   "metadata": {},
   "outputs": [],
   "source": [
    "from PIL import Image, ImageFont, ImageDraw "
   ]
  },
  {
   "cell_type": "code",
   "execution_count": 54,
   "metadata": {},
   "outputs": [],
   "source": [
    "def get_text_dimensions(text_string, font):\n",
    "    # https://stackoverflow.com/a/46220683/9263761\n",
    "    ascent, descent = font.getmetrics()\n",
    "\n",
    "    text_width = font.getmask(text_string).getbbox()[2]\n",
    "    text_height = font.getmask(text_string).getbbox()[3] + descent\n",
    "\n",
    "    return (text_width, text_height)"
   ]
  },
  {
   "cell_type": "code",
   "execution_count": 56,
   "metadata": {},
   "outputs": [],
   "source": [
    "def setData(name,designation,id,bg,email,join_date=\"\"):\n",
    "    mid=350\n",
    "    idCard=Image.open(\"idCard.png\")\n",
    "    titleFont=ImageFont.truetype(\"lato\\Lato-Bold.ttf\",37)\n",
    "    nameFont=ImageFont.truetype(\"lato\\Lato-Regular.ttf\",30)\n",
    "    idFont=ImageFont.truetype(\"lato\\Lato-Regular.ttf\",25)\n",
    "    smallFont=ImageFont.truetype(\"lato\\Lato-Regular.ttf\",25)\n",
    "    image_editable = ImageDraw.Draw(idCard)\n",
    "    image_editable.text(((750-get_text_dimensions(name,titleFont)[0])/2,550), name, (0, 0, 0), font=titleFont)\n",
    "    image_editable.text(((750-get_text_dimensions(designation,titleFont)[0])/2,550+50),designation,(0,0,0),font=titleFont)\n",
    "    image_editable.text((259,717),id,(0,0,0),font=idFont)\n",
    "    image_editable.text((259,767),email,(0,0,0),font=idFont)\n",
    "    image_editable.text((550,710),bg,(0,0,0),font=nameFont)\n",
    "    image_editable.text((335,838),join_date,(0,0,0),font=smallFont)\n",
    "    idCard.save(\"ids/\"+id+\".png\")"
   ]
  },
  {
   "cell_type": "code",
   "execution_count": 58,
   "metadata": {},
   "outputs": [
    {
     "name": "stdout",
     "output_type": "stream",
     "text": [
      "Requirement already satisfied: openpyxl in c:\\users\\latin chakma\\.conda\\envs\\ml\\lib\\site-packages (3.0.10)\n",
      "Requirement already satisfied: et-xmlfile in c:\\users\\latin chakma\\.conda\\envs\\ml\\lib\\site-packages (from openpyxl) (1.1.0)\n",
      "Note: you may need to restart the kernel to use updated packages.\n"
     ]
    }
   ],
   "source": [
    "import pandas as pd\n",
    "%pip install openpyxl"
   ]
  },
  {
   "cell_type": "code",
   "execution_count": 59,
   "metadata": {},
   "outputs": [
    {
     "data": {
      "text/html": [
       "<div>\n",
       "<style scoped>\n",
       "    .dataframe tbody tr th:only-of-type {\n",
       "        vertical-align: middle;\n",
       "    }\n",
       "\n",
       "    .dataframe tbody tr th {\n",
       "        vertical-align: top;\n",
       "    }\n",
       "\n",
       "    .dataframe thead th {\n",
       "        text-align: right;\n",
       "    }\n",
       "</style>\n",
       "<table border=\"1\" class=\"dataframe\">\n",
       "  <thead>\n",
       "    <tr style=\"text-align: right;\">\n",
       "      <th></th>\n",
       "      <th>Timestamp</th>\n",
       "      <th>Email Address</th>\n",
       "      <th>Name</th>\n",
       "      <th>ID</th>\n",
       "      <th>Phone number</th>\n",
       "      <th>Blood Group</th>\n",
       "      <th>Member Type</th>\n",
       "      <th>Recruited Trimester</th>\n",
       "      <th>T-Shirt Size</th>\n",
       "      <th>Your Formal Picture</th>\n",
       "      <th>Unnamed: 10</th>\n",
       "      <th>Unnamed: 11</th>\n",
       "    </tr>\n",
       "  </thead>\n",
       "  <tbody>\n",
       "    <tr>\n",
       "      <th>0</th>\n",
       "      <td>2022-07-08 10:59:59.648000</td>\n",
       "      <td>tmoon211097@bba.uiu.ac.bd</td>\n",
       "      <td>Taima Rahman moon</td>\n",
       "      <td>111211097.0</td>\n",
       "      <td>1.630991e+09</td>\n",
       "      <td>O+</td>\n",
       "      <td>General Member</td>\n",
       "      <td>Summer 2022</td>\n",
       "      <td>L (Chest: 42-44'')</td>\n",
       "      <td>https://drive.google.com/open?id=1Z_sF95QPucsL...</td>\n",
       "      <td>NaN</td>\n",
       "      <td>NaN</td>\n",
       "    </tr>\n",
       "    <tr>\n",
       "      <th>1</th>\n",
       "      <td>NaN</td>\n",
       "      <td>msarker213016@bba.uiu.ac.bd</td>\n",
       "      <td>Md. Mahmudul Hasan Sarker</td>\n",
       "      <td>111213016.0</td>\n",
       "      <td>1.647270e+09</td>\n",
       "      <td>NaN</td>\n",
       "      <td>General Member</td>\n",
       "      <td>Summer 2022</td>\n",
       "      <td>L (42-44'')</td>\n",
       "      <td>https://drive.google.com/file/d/1A9AQ0WyJmw2mm...</td>\n",
       "      <td>NaN</td>\n",
       "      <td>NaN</td>\n",
       "    </tr>\n",
       "    <tr>\n",
       "      <th>2</th>\n",
       "      <td>2022-07-17 20:46:14.839000</td>\n",
       "      <td>mohammadxarif999@gmail.com</td>\n",
       "      <td>Mohammad Zarif</td>\n",
       "      <td>111213026.0</td>\n",
       "      <td>1.722315e+09</td>\n",
       "      <td>B+</td>\n",
       "      <td>General Member</td>\n",
       "      <td>Summer 2022</td>\n",
       "      <td>XL (Chest: 46-48'')</td>\n",
       "      <td>https://drive.google.com/open?id=1Les7JqRiMme5...</td>\n",
       "      <td>NaN</td>\n",
       "      <td>NaN</td>\n",
       "    </tr>\n",
       "    <tr>\n",
       "      <th>3</th>\n",
       "      <td>2022-07-08 23:11:19.970000</td>\n",
       "      <td>rbaroi213034@bba.uiu.ac.bd</td>\n",
       "      <td>Rumky Henrieta Baroi</td>\n",
       "      <td>111213034.0</td>\n",
       "      <td>1.749497e+09</td>\n",
       "      <td>B+</td>\n",
       "      <td>General Member</td>\n",
       "      <td>Summer 2022</td>\n",
       "      <td>M (Chest: 38-40'')</td>\n",
       "      <td>https://drive.google.com/open?id=1XXe7EZWWt1XY...</td>\n",
       "      <td>NaN</td>\n",
       "      <td>NaN</td>\n",
       "    </tr>\n",
       "    <tr>\n",
       "      <th>4</th>\n",
       "      <td>2022-07-12 21:34:29.693000</td>\n",
       "      <td>atuba213100@bba.uiu.ac.bd</td>\n",
       "      <td>Anjuman Malek Tuba</td>\n",
       "      <td>111213100.0</td>\n",
       "      <td>1.741373e+09</td>\n",
       "      <td>O+</td>\n",
       "      <td>General Member</td>\n",
       "      <td>Summer 2022</td>\n",
       "      <td>S (Chest: 34-36'')</td>\n",
       "      <td>https://drive.google.com/open?id=1JXRY0kXlOgbZ...</td>\n",
       "      <td>NaN</td>\n",
       "      <td>NaN</td>\n",
       "    </tr>\n",
       "  </tbody>\n",
       "</table>\n",
       "</div>"
      ],
      "text/plain": [
       "                    Timestamp                Email Address  \\\n",
       "0  2022-07-08 10:59:59.648000    tmoon211097@bba.uiu.ac.bd   \n",
       "1                         NaN  msarker213016@bba.uiu.ac.bd   \n",
       "2  2022-07-17 20:46:14.839000   mohammadxarif999@gmail.com   \n",
       "3  2022-07-08 23:11:19.970000   rbaroi213034@bba.uiu.ac.bd   \n",
       "4  2022-07-12 21:34:29.693000    atuba213100@bba.uiu.ac.bd   \n",
       "\n",
       "                        Name           ID  Phone number Blood Group  \\\n",
       "0         Taima Rahman moon   111211097.0  1.630991e+09          O+   \n",
       "1  Md. Mahmudul Hasan Sarker  111213016.0  1.647270e+09         NaN   \n",
       "2             Mohammad Zarif  111213026.0  1.722315e+09          B+   \n",
       "3      Rumky Henrieta Baroi   111213034.0  1.749497e+09          B+   \n",
       "4         Anjuman Malek Tuba  111213100.0  1.741373e+09          O+   \n",
       "\n",
       "      Member Type Recruited Trimester         T-Shirt Size  \\\n",
       "0  General Member         Summer 2022   L (Chest: 42-44'')   \n",
       "1  General Member         Summer 2022          L (42-44'')   \n",
       "2  General Member         Summer 2022  XL (Chest: 46-48'')   \n",
       "3  General Member         Summer 2022   M (Chest: 38-40'')   \n",
       "4  General Member         Summer 2022   S (Chest: 34-36'')   \n",
       "\n",
       "                                Your Formal Picture   Unnamed: 10 Unnamed: 11  \n",
       "0  https://drive.google.com/open?id=1Z_sF95QPucsL...          NaN         NaN  \n",
       "1  https://drive.google.com/file/d/1A9AQ0WyJmw2mm...          NaN         NaN  \n",
       "2  https://drive.google.com/open?id=1Les7JqRiMme5...          NaN         NaN  \n",
       "3  https://drive.google.com/open?id=1XXe7EZWWt1XY...          NaN         NaN  \n",
       "4  https://drive.google.com/open?id=1JXRY0kXlOgbZ...          NaN         NaN  "
      ]
     },
     "execution_count": 59,
     "metadata": {},
     "output_type": "execute_result"
    }
   ],
   "source": [
    "data=pd.read_excel(\"cclinfo.xlsx\")\n",
    "data.head()"
   ]
  },
  {
   "cell_type": "code",
   "execution_count": 60,
   "metadata": {},
   "outputs": [
    {
     "ename": "FileNotFoundError",
     "evalue": "[Errno 2] No such file or directory: 'ids/111222119.png'",
     "output_type": "error",
     "traceback": [
      "\u001b[1;31m---------------------------------------------------------------------------\u001b[0m",
      "\u001b[1;31mFileNotFoundError\u001b[0m                         Traceback (most recent call last)",
      "\u001b[1;32mf:\\ML\\uiuccl\\IDCardSimplifier.ipynb Cell 8\u001b[0m in \u001b[0;36m<cell line: 1>\u001b[1;34m()\u001b[0m\n\u001b[0;32m      <a href='vscode-notebook-cell:/f%3A/ML/uiuccl/IDCardSimplifier.ipynb#ch0000007?line=6'>7</a>\u001b[0m bg\u001b[39m=\u001b[39m\u001b[39m\"\u001b[39m\u001b[39m \u001b[39m\u001b[39m\"\u001b[39m \u001b[39mif\u001b[39;00m bg\u001b[39m==\u001b[39m\u001b[39m\"\u001b[39m\u001b[39mNaN\u001b[39m\u001b[39m\"\u001b[39m \u001b[39melse\u001b[39;00m \u001b[39mstr\u001b[39m(bg)\u001b[39m.\u001b[39mupper()\n\u001b[0;32m      <a href='vscode-notebook-cell:/f%3A/ML/uiuccl/IDCardSimplifier.ipynb#ch0000007?line=7'>8</a>\u001b[0m email\u001b[39m=\u001b[39m\u001b[39mstr\u001b[39m(data\u001b[39m.\u001b[39mloc[i,\u001b[39m\"\u001b[39m\u001b[39mEmail Address\u001b[39m\u001b[39m\"\u001b[39m])\n\u001b[1;32m----> <a href='vscode-notebook-cell:/f%3A/ML/uiuccl/IDCardSimplifier.ipynb#ch0000007?line=8'>9</a>\u001b[0m setData(name,designation,\u001b[39mid\u001b[39;49m,bg,email)\n",
      "\u001b[1;32mf:\\ML\\uiuccl\\IDCardSimplifier.ipynb Cell 8\u001b[0m in \u001b[0;36msetData\u001b[1;34m(name, designation, id, bg, email, join_date)\u001b[0m\n\u001b[0;32m     <a href='vscode-notebook-cell:/f%3A/ML/uiuccl/IDCardSimplifier.ipynb#ch0000007?line=12'>13</a>\u001b[0m image_editable\u001b[39m.\u001b[39mtext((\u001b[39m550\u001b[39m,\u001b[39m710\u001b[39m),bg,(\u001b[39m0\u001b[39m,\u001b[39m0\u001b[39m,\u001b[39m0\u001b[39m),font\u001b[39m=\u001b[39mnameFont)\n\u001b[0;32m     <a href='vscode-notebook-cell:/f%3A/ML/uiuccl/IDCardSimplifier.ipynb#ch0000007?line=13'>14</a>\u001b[0m image_editable\u001b[39m.\u001b[39mtext((\u001b[39m335\u001b[39m,\u001b[39m838\u001b[39m),join_date,(\u001b[39m0\u001b[39m,\u001b[39m0\u001b[39m,\u001b[39m0\u001b[39m),font\u001b[39m=\u001b[39msmallFont)\n\u001b[1;32m---> <a href='vscode-notebook-cell:/f%3A/ML/uiuccl/IDCardSimplifier.ipynb#ch0000007?line=14'>15</a>\u001b[0m idCard\u001b[39m.\u001b[39;49msave(\u001b[39m\"\u001b[39;49m\u001b[39mids/\u001b[39;49m\u001b[39m\"\u001b[39;49m\u001b[39m+\u001b[39;49m\u001b[39mid\u001b[39;49m\u001b[39m+\u001b[39;49m\u001b[39m\"\u001b[39;49m\u001b[39m.png\u001b[39;49m\u001b[39m\"\u001b[39;49m)\n",
      "File \u001b[1;32mc:\\Users\\Latin Chakma\\.conda\\envs\\ML\\lib\\site-packages\\PIL\\Image.py:2317\u001b[0m, in \u001b[0;36mImage.save\u001b[1;34m(self, fp, format, **params)\u001b[0m\n\u001b[0;32m   2315\u001b[0m         fp \u001b[39m=\u001b[39m builtins\u001b[39m.\u001b[39mopen(filename, \u001b[39m\"\u001b[39m\u001b[39mr+b\u001b[39m\u001b[39m\"\u001b[39m)\n\u001b[0;32m   2316\u001b[0m     \u001b[39melse\u001b[39;00m:\n\u001b[1;32m-> 2317\u001b[0m         fp \u001b[39m=\u001b[39m builtins\u001b[39m.\u001b[39;49mopen(filename, \u001b[39m\"\u001b[39;49m\u001b[39mw+b\u001b[39;49m\u001b[39m\"\u001b[39;49m)\n\u001b[0;32m   2319\u001b[0m \u001b[39mtry\u001b[39;00m:\n\u001b[0;32m   2320\u001b[0m     save_handler(\u001b[39mself\u001b[39m, fp, filename)\n",
      "\u001b[1;31mFileNotFoundError\u001b[0m: [Errno 2] No such file or directory: 'ids/111222119.png'"
     ]
    }
   ],
   "source": [
    "for i in range(len(data))[10:20]:\n",
    "    name=str(data.loc[i,\"Name\"]).upper()\n",
    "    designation=str(data.loc[i,\"Member Type\"])\n",
    "    id=str(int(data.loc[i,\"ID\"]))\n",
    "    id=\"0\"+id if len(id)<9 else id\n",
    "    bg=str(data.loc[i,\"Blood Group\"])\n",
    "    bg=\" \" if bg==\"NaN\" else str(bg).upper()\n",
    "    email=str(data.loc[i,\"Email Address\"])\n",
    "    setData(name,designation,id,bg,email)"
   ]
  }
 ],
 "metadata": {
  "kernelspec": {
   "display_name": "Python 3.9.12 ('ML')",
   "language": "python",
   "name": "python3"
  },
  "language_info": {
   "codemirror_mode": {
    "name": "ipython",
    "version": 3
   },
   "file_extension": ".py",
   "mimetype": "text/x-python",
   "name": "python",
   "nbconvert_exporter": "python",
   "pygments_lexer": "ipython3",
   "version": "3.9.12"
  },
  "orig_nbformat": 4,
  "vscode": {
   "interpreter": {
    "hash": "cece38bb09944de440b812dd50e53c213533c13f395f4a97acbccfd76a9a11c7"
   }
  }
 },
 "nbformat": 4,
 "nbformat_minor": 2
}

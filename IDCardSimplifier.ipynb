{
 "cells": [
  {
   "cell_type": "code",
   "execution_count": 31,
   "metadata": {},
   "outputs": [],
   "source": [
    "from PIL import Image, ImageFont, ImageDraw\n",
    "import os"
   ]
  },
  {
   "cell_type": "code",
   "execution_count": 32,
   "metadata": {},
   "outputs": [],
   "source": [
    "def get_text_dimensions(text_string, font):\n",
    "    # https://stackoverflow.com/a/46220683/9263761\n",
    "    ascent, descent = font.getmetrics()\n",
    "\n",
    "    text_width = font.getmask(text_string).getbbox()[2]\n",
    "    text_height = font.getmask(text_string).getbbox()[3] + descent\n",
    "\n",
    "    return (text_width, text_height)"
   ]
  },
  {
   "cell_type": "markdown",
   "metadata": {},
   "source": [
    "#You can change the join date by simply setting the parameter for it"
   ]
  },
  {
   "cell_type": "code",
   "execution_count": 33,
   "metadata": {},
   "outputs": [],
   "source": [
    "def setData(name,designation,id,bg,email,join_date=\"24/07/2022\"):\n",
    "    mid=350\n",
    "    idCard=Image.open(\"idCard.png\")\n",
    "    titleFont=ImageFont.truetype(\"lato\\Lato-Bold.ttf\",37)\n",
    "    nameFont=ImageFont.truetype(\"lato\\Lato-Regular.ttf\",30)\n",
    "    idFont=ImageFont.truetype(\"lato\\Lato-Regular.ttf\",25)\n",
    "    smallFont=ImageFont.truetype(\"lato\\Lato-Regular.ttf\",25)\n",
    "    image_editable = ImageDraw.Draw(idCard)\n",
    "    image_editable.text(((750-get_text_dimensions(name,titleFont)[0])/2,550), name, (0, 0, 0), font=titleFont)\n",
    "    image_editable.text(((750-get_text_dimensions(designation,titleFont)[0])/2,550+50),designation,(0,0,0),font=titleFont)\n",
    "    image_editable.text((260,717),id,(0,0,0),font=idFont)\n",
    "    image_editable.text((259,767),email,(0,0,0),font=idFont)\n",
    "    image_editable.text((550,710),bg,(0,0,0),font=nameFont)\n",
    "    image_editable.text((335,838),join_date,(0,0,0),font=smallFont)\n",
    "    idCard.save(\"ids/\"+id+\".png\")"
   ]
  },
  {
   "cell_type": "code",
   "execution_count": 34,
   "metadata": {},
   "outputs": [
    {
     "name": "stdout",
     "output_type": "stream",
     "text": [
      "Requirement already satisfied: openpyxl in c:\\users\\latin chakma\\.conda\\envs\\ml\\lib\\site-packages (3.0.10)\n",
      "Requirement already satisfied: et-xmlfile in c:\\users\\latin chakma\\.conda\\envs\\ml\\lib\\site-packages (from openpyxl) (1.1.0)\n",
      "Note: you may need to restart the kernel to use updated packages.\n"
     ]
    }
   ],
   "source": [
    "import pandas as pd\n",
    "%pip install openpyxl"
   ]
  },
  {
   "cell_type": "markdown",
   "metadata": {},
   "source": [
    "#Run the file using generate"
   ]
  },
  {
   "cell_type": "code",
   "execution_count": 35,
   "metadata": {},
   "outputs": [],
   "source": [
    "def generate(filepath):\n",
    "    data=pd.read_excel(filepath)\n",
    "    try:\n",
    "        os.mkdir(\"ids\")\n",
    "    except:\n",
    "        print(\"Folder Already Exists\")\n",
    "    for i in range(len(data)):\n",
    "        name=str(data.loc[i,\"Name\"]).upper()\n",
    "        designation=str(data.loc[i,\"Member Type\"])\n",
    "        id=str(int(data.loc[i,\"ID\"]))\n",
    "        id=\"0\"+id if len(id)<9 else id\n",
    "        bg=str(data.loc[i,\"Blood Group\"])\n",
    "        bg=\" \" if bg==\"nan\" else str(bg).upper()\n",
    "        email=str(data.loc[i,\"Email Address\"])\n",
    "        setData(name,designation,id,bg,email)\n"
   ]
  },
  {
   "cell_type": "code",
   "execution_count": 36,
   "metadata": {},
   "outputs": [
    {
     "name": "stdout",
     "output_type": "stream",
     "text": [
      "Folder Already Exists\n"
     ]
    },
    {
     "ename": "KeyboardInterrupt",
     "evalue": "",
     "output_type": "error",
     "traceback": [
      "\u001b[1;31m---------------------------------------------------------------------------\u001b[0m",
      "\u001b[1;31mKeyboardInterrupt\u001b[0m                         Traceback (most recent call last)",
      "\u001b[1;32mf:\\ML\\uiuccl\\IDCardSimplifier.ipynb Cell 7\u001b[0m in \u001b[0;36m<cell line: 1>\u001b[1;34m()\u001b[0m\n\u001b[1;32m----> <a href='vscode-notebook-cell:/f%3A/ML/uiuccl/IDCardSimplifier.ipynb#ch0000011?line=0'>1</a>\u001b[0m generate(\u001b[39m\"\u001b[39;49m\u001b[39mcclinfo.xlsx\u001b[39;49m\u001b[39m\"\u001b[39;49m)\n",
      "\u001b[1;32mf:\\ML\\uiuccl\\IDCardSimplifier.ipynb Cell 7\u001b[0m in \u001b[0;36mgenerate\u001b[1;34m(filepath)\u001b[0m\n\u001b[0;32m     <a href='vscode-notebook-cell:/f%3A/ML/uiuccl/IDCardSimplifier.ipynb#ch0000011?line=12'>13</a>\u001b[0m bg\u001b[39m=\u001b[39m\u001b[39m\"\u001b[39m\u001b[39m \u001b[39m\u001b[39m\"\u001b[39m \u001b[39mif\u001b[39;00m bg\u001b[39m==\u001b[39m\u001b[39m\"\u001b[39m\u001b[39mnan\u001b[39m\u001b[39m\"\u001b[39m \u001b[39melse\u001b[39;00m \u001b[39mstr\u001b[39m(bg)\u001b[39m.\u001b[39mupper()\n\u001b[0;32m     <a href='vscode-notebook-cell:/f%3A/ML/uiuccl/IDCardSimplifier.ipynb#ch0000011?line=13'>14</a>\u001b[0m email\u001b[39m=\u001b[39m\u001b[39mstr\u001b[39m(data\u001b[39m.\u001b[39mloc[i,\u001b[39m\"\u001b[39m\u001b[39mEmail Address\u001b[39m\u001b[39m\"\u001b[39m])\n\u001b[1;32m---> <a href='vscode-notebook-cell:/f%3A/ML/uiuccl/IDCardSimplifier.ipynb#ch0000011?line=14'>15</a>\u001b[0m setData(name,designation,\u001b[39mid\u001b[39;49m,bg,email)\n",
      "\u001b[1;32mf:\\ML\\uiuccl\\IDCardSimplifier.ipynb Cell 7\u001b[0m in \u001b[0;36msetData\u001b[1;34m(name, designation, id, bg, email, join_date)\u001b[0m\n\u001b[0;32m     <a href='vscode-notebook-cell:/f%3A/ML/uiuccl/IDCardSimplifier.ipynb#ch0000011?line=12'>13</a>\u001b[0m image_editable\u001b[39m.\u001b[39mtext((\u001b[39m550\u001b[39m,\u001b[39m710\u001b[39m),bg,(\u001b[39m0\u001b[39m,\u001b[39m0\u001b[39m,\u001b[39m0\u001b[39m),font\u001b[39m=\u001b[39mnameFont)\n\u001b[0;32m     <a href='vscode-notebook-cell:/f%3A/ML/uiuccl/IDCardSimplifier.ipynb#ch0000011?line=13'>14</a>\u001b[0m image_editable\u001b[39m.\u001b[39mtext((\u001b[39m335\u001b[39m,\u001b[39m838\u001b[39m),join_date,(\u001b[39m0\u001b[39m,\u001b[39m0\u001b[39m,\u001b[39m0\u001b[39m),font\u001b[39m=\u001b[39msmallFont)\n\u001b[1;32m---> <a href='vscode-notebook-cell:/f%3A/ML/uiuccl/IDCardSimplifier.ipynb#ch0000011?line=14'>15</a>\u001b[0m idCard\u001b[39m.\u001b[39;49msave(\u001b[39m\"\u001b[39;49m\u001b[39mids/\u001b[39;49m\u001b[39m\"\u001b[39;49m\u001b[39m+\u001b[39;49m\u001b[39mid\u001b[39;49m\u001b[39m+\u001b[39;49m\u001b[39m\"\u001b[39;49m\u001b[39m.png\u001b[39;49m\u001b[39m\"\u001b[39;49m)\n",
      "File \u001b[1;32mc:\\Users\\Latin Chakma\\.conda\\envs\\ML\\lib\\site-packages\\PIL\\Image.py:2320\u001b[0m, in \u001b[0;36mImage.save\u001b[1;34m(self, fp, format, **params)\u001b[0m\n\u001b[0;32m   2317\u001b[0m         fp \u001b[39m=\u001b[39m builtins\u001b[39m.\u001b[39mopen(filename, \u001b[39m\"\u001b[39m\u001b[39mw+b\u001b[39m\u001b[39m\"\u001b[39m)\n\u001b[0;32m   2319\u001b[0m \u001b[39mtry\u001b[39;00m:\n\u001b[1;32m-> 2320\u001b[0m     save_handler(\u001b[39mself\u001b[39;49m, fp, filename)\n\u001b[0;32m   2321\u001b[0m \u001b[39mexcept\u001b[39;00m \u001b[39mException\u001b[39;00m:\n\u001b[0;32m   2322\u001b[0m     \u001b[39mif\u001b[39;00m open_fp:\n",
      "File \u001b[1;32mc:\\Users\\Latin Chakma\\.conda\\envs\\ML\\lib\\site-packages\\PIL\\PngImagePlugin.py:1374\u001b[0m, in \u001b[0;36m_save\u001b[1;34m(im, fp, filename, chunk, save_all)\u001b[0m\n\u001b[0;32m   1372\u001b[0m     _write_multiple_frames(im, fp, chunk, rawmode)\n\u001b[0;32m   1373\u001b[0m \u001b[39melse\u001b[39;00m:\n\u001b[1;32m-> 1374\u001b[0m     ImageFile\u001b[39m.\u001b[39;49m_save(im, _idat(fp, chunk), [(\u001b[39m\"\u001b[39;49m\u001b[39mzip\u001b[39;49m\u001b[39m\"\u001b[39;49m, (\u001b[39m0\u001b[39;49m, \u001b[39m0\u001b[39;49m) \u001b[39m+\u001b[39;49m im\u001b[39m.\u001b[39;49msize, \u001b[39m0\u001b[39;49m, rawmode)])\n\u001b[0;32m   1376\u001b[0m \u001b[39mif\u001b[39;00m info:\n\u001b[0;32m   1377\u001b[0m     \u001b[39mfor\u001b[39;00m info_chunk \u001b[39min\u001b[39;00m info\u001b[39m.\u001b[39mchunks:\n",
      "File \u001b[1;32mc:\\Users\\Latin Chakma\\.conda\\envs\\ML\\lib\\site-packages\\PIL\\ImageFile.py:518\u001b[0m, in \u001b[0;36m_save\u001b[1;34m(im, fp, tile, bufsize)\u001b[0m\n\u001b[0;32m    515\u001b[0m \u001b[39mif\u001b[39;00m exc:\n\u001b[0;32m    516\u001b[0m     \u001b[39m# compress to Python file-compatible object\u001b[39;00m\n\u001b[0;32m    517\u001b[0m     \u001b[39mwhile\u001b[39;00m \u001b[39mTrue\u001b[39;00m:\n\u001b[1;32m--> 518\u001b[0m         l, s, d \u001b[39m=\u001b[39m encoder\u001b[39m.\u001b[39;49mencode(bufsize)\n\u001b[0;32m    519\u001b[0m         fp\u001b[39m.\u001b[39mwrite(d)\n\u001b[0;32m    520\u001b[0m         \u001b[39mif\u001b[39;00m s:\n",
      "\u001b[1;31mKeyboardInterrupt\u001b[0m: "
     ]
    }
   ],
   "source": [
    "generate(\"cclinfo.xlsx\")"
   ]
  }
 ],
 "metadata": {
  "kernelspec": {
   "display_name": "Python 3.9.12 ('ML')",
   "language": "python",
   "name": "python3"
  },
  "language_info": {
   "codemirror_mode": {
    "name": "ipython",
    "version": 3
   },
   "file_extension": ".py",
   "mimetype": "text/x-python",
   "name": "python",
   "nbconvert_exporter": "python",
   "pygments_lexer": "ipython3",
   "version": "3.9.12"
  },
  "orig_nbformat": 4,
  "vscode": {
   "interpreter": {
    "hash": "cece38bb09944de440b812dd50e53c213533c13f395f4a97acbccfd76a9a11c7"
   }
  }
 },
 "nbformat": 4,
 "nbformat_minor": 2
}

{
 "cells": [
  {
   "cell_type": "code",
   "execution_count": 53,
   "metadata": {},
   "outputs": [],
   "source": [
    "from PIL import Image, ImageFont, ImageDraw "
   ]
  },
  {
   "cell_type": "code",
   "execution_count": 54,
   "metadata": {},
   "outputs": [],
   "source": [
    "def get_text_dimensions(text_string, font):\n",
    "    # https://stackoverflow.com/a/46220683/9263761\n",
    "    ascent, descent = font.getmetrics()\n",
    "\n",
    "    text_width = font.getmask(text_string).getbbox()[2]\n",
    "    text_height = font.getmask(text_string).getbbox()[3] + descent\n",
    "\n",
    "    return (text_width, text_height)"
   ]
  },
  {
   "cell_type": "code",
   "execution_count": 56,
   "metadata": {},
   "outputs": [],
   "source": [
    "def setData(name,designation,id,bg,email,join_date=\"\"):\n",
    "    mid=350\n",
    "    idCard=Image.open(\"idCard.png\")\n",
    "    titleFont=ImageFont.truetype(\"lato\\Lato-Bold.ttf\",37)\n",
    "    nameFont=ImageFont.truetype(\"lato\\Lato-Regular.ttf\",30)\n",
    "    idFont=ImageFont.truetype(\"lato\\Lato-Regular.ttf\",25)\n",
    "    smallFont=ImageFont.truetype(\"lato\\Lato-Regular.ttf\",25)\n",
    "    image_editable = ImageDraw.Draw(idCard)\n",
    "    image_editable.text(((750-get_text_dimensions(name,titleFont)[0])/2,550), name, (0, 0, 0), font=titleFont)\n",
    "    image_editable.text(((750-get_text_dimensions(designation,titleFont)[0])/2,550+50),designation,(0,0,0),font=titleFont)\n",
    "    image_editable.text((259,717),id,(0,0,0),font=idFont)\n",
    "    image_editable.text((259,767),email,(0,0,0),font=idFont)\n",
    "    image_editable.text((550,710),bg,(0,0,0),font=nameFont)\n",
    "    image_editable.text((335,838),join_date,(0,0,0),font=smallFont)\n",
    "    idCard.save(\"ids/\"+id+\".png\")"
   ]
  },
  {
   "cell_type": "code",
   "execution_count": null,
   "metadata": {},
   "outputs": [],
   "source": [
    "import pandas as pd\n",
    "%pip install openpyxl"
   ]
  },
  {
   "cell_type": "markdown",
   "metadata": {},
   "source": [
    "#Run the file using generate"
   ]
  },
  {
   "cell_type": "code",
   "execution_count": null,
   "metadata": {},
   "outputs": [],
   "source": [
    "def generate(filepath):\n",
    "    data=pd.read_excel(filepath)\n",
    "    for i in range(len(data)):\n",
    "        name=str(data.loc[i,\"Name\"]).upper()\n",
    "        designation=str(data.loc[i,\"Member Type\"])\n",
    "        id=str(int(data.loc[i,\"ID\"]))\n",
    "        id=\"0\"+id if len(id)<9 else id\n",
    "        bg=str(data.loc[i,\"Blood Group\"])\n",
    "        bg=\" \" if bg==\"NaN\" else str(bg).upper()\n",
    "        email=str(data.loc[i,\"Email Address\"])\n",
    "        setData(name,designation,id,bg,email)\n"
   ]
  },
  {
   "cell_type": "code",
   "execution_count": null,
   "metadata": {},
   "outputs": [],
   "source": [
    "generate(\"cclinfo.xlsx\")"
   ]
  }
 ],
 "metadata": {
  "kernelspec": {
   "display_name": "Python 3.9.12 ('ML')",
   "language": "python",
   "name": "python3"
  },
  "language_info": {
   "codemirror_mode": {
    "name": "ipython",
    "version": 3
   },
   "file_extension": ".py",
   "mimetype": "text/x-python",
   "name": "python",
   "nbconvert_exporter": "python",
   "pygments_lexer": "ipython3",
   "version": "3.9.12"
  },
  "orig_nbformat": 4,
  "vscode": {
   "interpreter": {
    "hash": "cece38bb09944de440b812dd50e53c213533c13f395f4a97acbccfd76a9a11c7"
   }
  }
 },
 "nbformat": 4,
 "nbformat_minor": 2
}
